{
 "cells": [
  {
   "cell_type": "markdown",
   "id": "47ce8d9e-af4b-4262-92fc-ec6e2bd87c13",
   "metadata": {},
   "source": [
    "# Analysis of Seattle Airbnb Data"
   ]
  },
  {
   "cell_type": "markdown",
   "id": "2bf2efc5-7614-4264-987c-41587fee8295",
   "metadata": {},
   "source": [
    "#### 1. Project Description\n",
    "\n",
    "The goal of this analysis is to use the Airbnb Seattle Open Dataset to answer the following questions:\n",
    "    \n",
    "Question 1: Staying in Seattle: When are the busiest times to visit? When are the most expensive times to visit? Which neighborhoods are the most and least expensive?\n",
    "\n",
    "Question 2: What type of properties are advertised on Airbnb? Long stays or short-term rents? Self-catering or hotels and apartments?\n",
    "\n",
    "Question 3: Which variables can be used to predict the review rating of an Airbnb property?\n",
    "\n",
    "---"
   ]
  },
  {
   "cell_type": "markdown",
   "id": "12ec42d3-78c2-4db0-88fb-ca12fc6c46d3",
   "metadata": {},
   "source": [
    "#### 2. Installation\n",
    "\n",
    "This project requires Python 3.X and the following Python libraries:\n",
    "NumPy\n",
    "Pandas\n",
    "matplotlib\n",
    "sklearn\n",
    "\n",
    "Software to run an iPython Notebook is also required.\n",
    "\n",
    "---"
   ]
  },
  {
   "cell_type": "markdown",
   "id": "f8a40afc-75f7-4cd9-89ad-5e54c2c4fcc1",
   "metadata": {},
   "source": [
    "#### 3. Files\n",
    "\n",
    "The link to the data is as follows: https://www.kaggle.com/datasets/airbnb/seattle\n",
    "The following files will be used: listings.csv, calendar.csv\n",
    "\n",
    "---"
   ]
  },
  {
   "cell_type": "markdown",
   "id": "990b72cd-a51a-4f2e-9081-b3469de24644",
   "metadata": {},
   "source": [
    "#### 4. Results\n",
    "\n",
    "The main findings of the analysis can be found in the following blog post: https://medium.com/@bethbarlow7/analysis-of-the-kaggle-airbnb-seattle-open-dataset-dcd91b30de83\n",
    "\n",
    "---"
   ]
  },
  {
   "cell_type": "markdown",
   "id": "ff3fadb5-2541-4492-b06d-b689993050ec",
   "metadata": {},
   "source": [
    "#### 5. Licensing\n",
    "\n",
    "This data was sourced from Kaggle under the following license: https://creativecommons.org/publicdomain/zero/1.0/\n"
   ]
  }
 ],
 "metadata": {
  "kernelspec": {
   "display_name": "Python 3 (ipykernel)",
   "language": "python",
   "name": "python3"
  },
  "language_info": {
   "codemirror_mode": {
    "name": "ipython",
    "version": 3
   },
   "file_extension": ".py",
   "mimetype": "text/x-python",
   "name": "python",
   "nbconvert_exporter": "python",
   "pygments_lexer": "ipython3",
   "version": "3.9.7"
  }
 },
 "nbformat": 4,
 "nbformat_minor": 5
}
